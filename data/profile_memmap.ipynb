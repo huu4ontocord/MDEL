{
 "cells": [
  {
   "cell_type": "code",
   "execution_count": 1,
   "metadata": {},
   "outputs": [],
   "source": [
    "from braceexpand import braceexpand\n",
    "import numpy as np"
   ]
  },
  {
   "cell_type": "code",
   "execution_count": 15,
   "metadata": {},
   "outputs": [],
   "source": [
    "paths = \"/home/siddhesh1793/data/mmc4_converted/embeddings/docs_no_face_shard_{0..4}_v2.npy\"\n",
    "paths = list(braceexpand(paths))"
   ]
  },
  {
   "cell_type": "code",
   "execution_count": 18,
   "metadata": {},
   "outputs": [
    {
     "data": {
      "text/plain": [
       "[127192, 768]"
      ]
     },
     "execution_count": 18,
     "metadata": {},
     "output_type": "execute_result"
    }
   ],
   "source": [
    "embeddings_shape = [0, 768]\n",
    "\n",
    "for path in paths:\n",
    "    embeddings = np.load(path, allow_pickle=True)\n",
    "    embeddings_shape[0] += len(embeddings)\n",
    "embeddings_shape"
   ]
  },
  {
   "cell_type": "code",
   "execution_count": 17,
   "metadata": {},
   "outputs": [],
   "source": [
    "# Indices to load data from\n",
    "indices = np.random.randint(0, embeddings_shape[1], 500)"
   ]
  },
  {
   "attachments": {},
   "cell_type": "markdown",
   "metadata": {},
   "source": [
    "## Create one memmaped file and read"
   ]
  },
  {
   "cell_type": "code",
   "execution_count": 20,
   "metadata": {},
   "outputs": [],
   "source": [
    "def create_memmap(paths, embeddings_shape, filename=\"/tmp/embeddings_map\"):\n",
    "\tembeddings_map = np.memmap(filename, dtype=np.float32, mode=\"w+\", shape=tuple(embeddings_shape))\n",
    "\tidx = 0\n",
    "\tfor path in paths:\n",
    "\t\tembeddings = np.load(path, allow_pickle=True)\n",
    "\t\tembeddings_map[idx:idx+len(embeddings)] = embeddings\n",
    "\t\tidx += len(embeddings)\n",
    "\tdel embeddings_map"
   ]
  },
  {
   "cell_type": "code",
   "execution_count": 21,
   "metadata": {},
   "outputs": [],
   "source": [
    "def read_embeddings_from_memmap(filename, indices, embeddings_shape):\n",
    "\tembeddings_map = np.memmap(filename, dtype=np.float32, mode=\"r\", shape=tuple(embeddings_shape))\n",
    "\n",
    "\tfor idx in indices:\n",
    "\t\tyield embeddings_map[idx]"
   ]
  },
  {
   "cell_type": "code",
   "execution_count": 22,
   "metadata": {},
   "outputs": [
    {
     "name": "stdout",
     "output_type": "stream",
     "text": [
      "75 ns ± 0.609 ns per loop (mean ± std. dev. of 7 runs, 10,000,000 loops each)\n"
     ]
    }
   ],
   "source": [
    "%timeit read_embeddings_from_memmap(\"/tmp/embeddings_map\", indices, embeddings_shape)"
   ]
  },
  {
   "cell_type": "code",
   "execution_count": 26,
   "metadata": {},
   "outputs": [],
   "source": [
    "def read_each_shard_using_load(paths, indices, load_func, **kwargs):\n",
    "\tfor index in indices:\n",
    "\t\tshard_idx = indices // 500\n",
    "\t\tindex = indices % 500\n",
    "\t\tembeddings = load_func(paths[shard_idx], **kwargs)\n",
    "\t\tyield embeddings[index]"
   ]
  },
  {
   "cell_type": "code",
   "execution_count": 28,
   "metadata": {},
   "outputs": [
    {
     "name": "stdout",
     "output_type": "stream",
     "text": [
      "134 ns ± 0.524 ns per loop (mean ± std. dev. of 7 runs, 10,000,000 loops each)\n"
     ]
    }
   ],
   "source": [
    "%timeit read_each_shard_using_load(paths, indices, np.load, allow_pickle=True)"
   ]
  },
  {
   "cell_type": "code",
   "execution_count": 30,
   "metadata": {},
   "outputs": [
    {
     "name": "stdout",
     "output_type": "stream",
     "text": [
      "153 ns ± 0.608 ns per loop (mean ± std. dev. of 7 runs, 10,000,000 loops each)\n"
     ]
    }
   ],
   "source": [
    "%timeit read_each_shard_using_load(paths, indices, np.lib.format.open_memmap, mode='r')"
   ]
  },
  {
   "cell_type": "code",
   "execution_count": 31,
   "metadata": {},
   "outputs": [],
   "source": [
    "%timeit read_each_shard_using_load(paths, indices, np.memmap, mode='r')"
   ]
  }
 ],
 "metadata": {
  "kernelspec": {
   "display_name": ".env",
   "language": "python",
   "name": "python3"
  },
  "language_info": {
   "codemirror_mode": {
    "name": "ipython",
    "version": 3
   },
   "file_extension": ".py",
   "mimetype": "text/x-python",
   "name": "python",
   "nbconvert_exporter": "python",
   "pygments_lexer": "ipython3",
   "version": "3.8.10"
  },
  "orig_nbformat": 4
 },
 "nbformat": 4,
 "nbformat_minor": 2
}
