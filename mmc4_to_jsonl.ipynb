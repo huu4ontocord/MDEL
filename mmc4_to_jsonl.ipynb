{
 "cells": [
  {
   "cell_type": "code",
   "execution_count": 17,
   "metadata": {},
   "outputs": [],
   "source": [
    "import os\n",
    "import json\n",
    "import numpy as np\n",
    "from tqdm import tqdm"
   ]
  },
  {
   "cell_type": "code",
   "execution_count": 21,
   "metadata": {},
   "outputs": [],
   "source": [
    "def convert_mmc4_shard(jsonl_filepath, embed_filepath, shard_index, dataset):\n",
    "    # Pre-allocate np array\n",
    "    embed_dict = np.load(embed_filepath, allow_pickle=True)\n",
    "    num_rows = len(embed_dict)\n",
    "    num_cols = embed_dict[list(embed_dict.keys())[0]].shape[0]\n",
    "    embeddings = np.zeros((num_rows, num_cols))\n",
    "\n",
    "    # Create map from image id to index\n",
    "    image_id_to_index = {}\n",
    "\n",
    "    # Load jsonl file\n",
    "    jsonl_list = []\n",
    "    with open(jsonl_filepath, 'r') as f:\n",
    "        # Iterate over jsonl file\n",
    "        for idx, line in tqdm(enumerate(f.readlines())):\n",
    "            data = json.loads(line)\n",
    "\n",
    "            text_list = data['text_list']\n",
    "\n",
    "            # Get image id\n",
    "            for image in data['image_info']:\n",
    "                image_name = image['image_name']\n",
    "\n",
    "                # Get image index if image id in map\n",
    "                image_index = image_id_to_index.get(image_name, None)\n",
    "\n",
    "                # If image id not in map, add to map and add to embeddings\n",
    "                if image_index is None:\n",
    "                    image_index = len(image_id_to_index)\n",
    "                    image_id_to_index[image_name] = image_index\n",
    "                    embeddings[len(image_id_to_index) - 1] = embed_dict[image_name]\n",
    "\n",
    "                text_list.insert(image['matched_index'], f\"<image><<{shard_index},{image_index},{dataset},image>></image>\")\n",
    "\n",
    "            text = \" \".join(text_list)\n",
    "\n",
    "            # Add to jsonl list\n",
    "            data['text'] = text\n",
    "            jsonl_list.append(data)\n",
    "\n",
    "    # Return new jsonl file and embeddings array\n",
    "    return jsonl_list, embeddings"
   ]
  },
  {
   "cell_type": "code",
   "execution_count": 22,
   "metadata": {},
   "outputs": [],
   "source": [
    "mmc4_data_dir ='/path/to/mmc4/'\n",
    "jsonl_filepath = os.path.join(mmc4_data_dir, 'docs_no_face_shard_0_v2.jsonl')\n",
    "embed_filepath = os.path.join(mmc4_data_dir, \"clip_vitl14_shard_0_features.pkl\")"
   ]
  },
  {
   "cell_type": "code",
   "execution_count": 26,
   "metadata": {},
   "outputs": [
    {
     "name": "stderr",
     "output_type": "stream",
     "text": [
      "3001it [00:00, 14339.46it/s]\n"
     ]
    }
   ],
   "source": [
    "new_jsonl_list, embed = convert_mmc4_shard(jsonl_filepath, embed_filepath, 0, 'mmc4')"
   ]
  },
  {
   "cell_type": "code",
   "execution_count": 32,
   "metadata": {},
   "outputs": [],
   "source": [
    "original_jsonl = open(jsonl_filepath, 'r').readlines()\n",
    "original_embed = np.load(embed_filepath, allow_pickle=True)\n",
    "assert(len(new_jsonl_list) == len(original_jsonl))\n",
    "assert(embed.shape[0] == len(original_embed.keys()))"
   ]
  },
  {
   "cell_type": "code",
   "execution_count": 34,
   "metadata": {},
   "outputs": [
    {
     "data": {
      "text/plain": [
       "'Fun with soon-to-be famous sheep! It started with an unusual email asking if we were free on Wednesday evening to help herd some sheep. OK. Where from, to and most of all, Why? Apparently actress Liz Hurley will be filming scenes for a new TV show \"The Royals\" in our village this week. The show which will air on E! sometime next year is about a fictional Royal family. Liz plays the Queen - but apparently a boozy table dancing monarch which is in no way based on our Queen! So where do the sheep come into this? Hmm not entirely sure but the location people had scouted out my friend\\'s small field and booked it for filming along with the sheep in it. In between scouting and filming, the sheep had been moved and this week we needed to move them back. I replied to the email - yes of course we would love to help. Then wondered what I had let myself in for. I wondered what one should wear for sheep herding -shepherding rather - but in the absence of a Bo Peep costume decided it didn\\'t really matter. The hour was upon us. Several adults and even more hot and over excited children gathered. Serious sheep people arrived with proper crooks (big sticks! ), panels to make a sheep pen and spray paint. Yep - the sheep had a graffiti makeover with blue stripes being sprayed on their bums. <image><<0,28,mmc4,image>></image> To identify them if by any chance the amateur\\'s shepherding proved to be rubbish and some escaped? We were given instructions on good sheep distraction techniques - crouch low with arms wide if you are wondering. And told which specific points to be sure to cover. Driveways, gateways, the recreation ground entrance all needed a row of crouching people while yet more ran ahead, alongside and behind. And of course we had traffic marshals to stop traffic when needed. Well what can I say! It went like clockwork. It was quite a sight standing at the bottom of the first lane ready to make sure the sheep went left not right, to see the herd of children, followed by the herd of sheep pelting down the lane. And running alongside the sheep occasionally blocking entrances gave me a (tame) taste of what it must be like running with the bulls in Pamplona. Very exhilarating only with less goring and trampling. Even little Grumpy who is just about sheep sized entered into the fun with gusto, arms outstretched and hilariously crouching like the adults even though this made him sheep knee-height. Motorists and walkers filmed and took photos as we hurtled by and when the sheep were successfully diverted into the film location field we all cheered and applauded. City dwellers with access to theatres, cinemas, museums, trendy bars and art galleries are shaking their heads sadly at this tale of sheep-related entertainment but let me tell you it was really good fun! So when you tune in to watch The Royals next year, check out the sheep. As featured first in film right here on madmumof7.com! <image><<0,29,mmc4,image>></image> The actual purses are available in numerous shape and size providing towards the require associated with chanel outlet each and every person\\'s dreams. <image><<0,30,mmc4,image>></image> Book styles, designs as well as style, high quality assure provides market with regard to Gucci Purses more than additional gamers on the market. Numerous gamers within the purses business possess attempted to determine heir tag however that one replica watches uk continual provided it\\'s innovative style, form as well as color. The actual share associated with purses is actually an array of designs, clean, vibrant as well as fake rolex fascinating being an item suiting your own fashionable ensemble. The actual prices is actually sensible. Strict high quality assessments tend to be handed through these types of purses prior to obtaining sent to the client. You will find absolutely no concealed expenses as well as gucci replica the costs shown about the digital shop would be the last so that as set through the producers. The actual delivery is going to be created in the tackle provided inside a stunning load up which guarantees the actual purses don\\'t shed their own elegance because of mass dealing with within transit. All of the hands totes consists of top end chanel replica gentle leather-based, departing a definite appear purse.'"
      ]
     },
     "execution_count": 34,
     "metadata": {},
     "output_type": "execute_result"
    }
   ],
   "source": [
    "new_jsonl_list[10]['text']"
   ]
  }
 ],
 "metadata": {
  "kernelspec": {
   "display_name": ".venv",
   "language": "python",
   "name": "python3"
  },
  "language_info": {
   "codemirror_mode": {
    "name": "ipython",
    "version": 3
   },
   "file_extension": ".py",
   "mimetype": "text/x-python",
   "name": "python",
   "nbconvert_exporter": "python",
   "pygments_lexer": "ipython3",
   "version": "3.8.10"
  },
  "orig_nbformat": 4
 },
 "nbformat": 4,
 "nbformat_minor": 2
}
